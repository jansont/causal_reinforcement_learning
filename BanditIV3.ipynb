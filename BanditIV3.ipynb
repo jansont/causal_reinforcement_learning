{
 "cells": [
  {
   "attachments": {},
   "cell_type": "markdown",
   "metadata": {},
   "source": [
    "## Bandit-IV"
   ]
  },
  {
   "cell_type": "code",
   "execution_count": 1,
   "metadata": {},
   "outputs": [],
   "source": [
    "import numpy as np\n",
    "import numpy.random as ra\n",
    "import numpy.linalg as la\n",
    "from tqdm import tqdm\n",
    "import matplotlib.pyplot as plt\n",
    "# import os\n",
    "# print(os.getcwd())"
   ]
  },
  {
   "cell_type": "code",
   "execution_count": 4,
   "metadata": {},
   "outputs": [],
   "source": [
    "def runit(Z_dist, \n",
    "          X_dist,\n",
    "          Y_dist,\n",
    "          beta_star,\n",
    "          gamma_star, \n",
    "          gamma_z, \n",
    "          gamma_x, \n",
    "          ):\n",
    "      \n",
    "      np.random.seed(42)\n",
    "\n",
    "    \n",
    "      nb_exp, T, nb_arms, d = X_dist.shape\n",
    "      _, _, _, k = Z_dist.shape\n",
    "\n",
    "      #result tracking\n",
    "      regret = np.zeros((nb_exp,T))\n",
    "      pred_norms = np.zeros((nb_exp,T))\n",
    "      x_inv_norms = np.zeros((nb_exp,T))\n",
    "      norm_beta_hat__beta = np.zeros((nb_exp, T))\n",
    "      beta_hat_rec = np.zeros((nb_exp,T,d))\n",
    "      GammaHat_rec = np.zeros((nb_exp,T, k, d))\n",
    "\n",
    "      for it in range(nb_exp): \n",
    "\n",
    "            #intializing estimated parameter matrics\n",
    "            U_0 = np.eye(k)*gamma_z         # k x k\n",
    "            V_0 = np.zeros((k,d))           # k x d\n",
    "            W_0 = np.eye(d)*gamma_x         # d x d\n",
    "            Q_0 = np.zeros((d,1))           # d x 1\n",
    "\n",
    "            #initial pull \n",
    "            idx = np.random.choice(np.arange(Z_dist.shape[0]))          #choose arm at random\n",
    "\n",
    "\n",
    "\n",
    "      for t in range(1,T):\n",
    "\n",
    "            U_t = U_0 + z @ z.T\n",
    "            V_t = V_0 + z @ x.T     \n",
    "            Gamma_est = np.linalg.inv(U_t) @ V_t          #shape : d x k\n",
    "            X_est = (Z.T @ Gamma_est).T         #shape : d x (n rounds so far..) (different from paper)\n",
    "            W_t = W_0 + X_est @ X_est.T         #operation is other way in paper but that yield 1x1 (not dxd)\n",
    "            Q_t = Q_0 + (X_est @ Y)[...,None]       #had to remove transpose\n",
    "            Beta_est = inv(W_t) @ Q_t           #shape : k x 1\n",
    "\n",
    "    return regret, pred_norms, x_inv_norms, beta_hat_rec, ThetaHat_rec, norm_beta_hat__beta"
   ]
  },
  {
   "cell_type": "code",
   "execution_count": 2,
   "metadata": {},
   "outputs": [],
   "source": [
    "S, sigma_1, sigma_2 = 1, 0.01, 0.0001\n",
    "nb_exp, T, n_a, d = 100, int(1e3), 100, 20\n",
    "\n",
    "theta_star = np.random.randn(d,d); #  theta_star *= 1/np.linalg.norm(theta_star) #maybe this can be changed\n",
    "inv_theta_star = np.linalg.inv(theta_star)\n",
    "beta_star = np.random.multivariate_normal([10 for i in range(d)], np.eye(d)).reshape(-1,) ; beta_star *= S/np.linalg.norm(beta_star)\n",
    "\n",
    "lamda = 1 ; lamda_IV = 1e-3\n",
    "delta = 0.001\n",
    "seed = 1996\n",
    "S_hat = S\n",
    "pulled_indeces = np.zeros((nb_exp,T))\n",
    "\n",
    "algorithms = ['banditiv']\n",
    "\n",
    "# FIRST STAGE\n",
    "# X_max = 100\n",
    "Z = np.random.randn(nb_exp, T, n_a, d) #; Z /= np.max(np.linalg.norm(Z,axis=2))/X_max\n",
    "eps = sigma_1*np.random.randn(nb_exp, T, n_a, d)\n",
    "# eps = np.zeros((T,d))\n",
    "X = np.dot(Z, theta_star) + eps\n",
    "\n",
    "# SECOND STAGE\n",
    "ee = d//4\n",
    "eta_tilde = np.random.randn(nb_exp, T, n_a) \n",
    "# eta = (eta_tilde + np.sum(eps[:,:,:,:ee]))/(1+ee*sigma_1)*sigma_2\n",
    "eta = sigma_2 * (eta_tilde + eps[:,:,:,:ee].sum(axis=-1))\n",
    "X = X / np.max(np.linalg.norm(X, axis=3, keepdims = True), axis=2, keepdims=True) \n",
    "Y = np.dot(X, beta_star) + eta"
   ]
  },
  {
   "cell_type": "code",
   "execution_count": 5,
   "metadata": {},
   "outputs": [],
   "source": [
    "regrets = np.zeros((nb_exp,len(algorithms),T))\n",
    "pred_norms = np.zeros((nb_exp,len(algorithms),T))\n",
    "x_inv_norms = np.zeros((nb_exp,len(algorithms),T))\n",
    "# beta_hat_ridge = np.zeros((nb_exp,T,d))\n",
    "beta_hat = np.zeros((nb_exp, len(algorithms), T,d))\n",
    "theta_hat = np.zeros((nb_exp, len(algorithms), T, d, d))\n",
    "beta_error = np.zeros((nb_exp, len(algorithms), T))\n",
    "\n",
    "for i,a in enumerate(algorithms):\n",
    "    regrets[:,i,:], pred_norms[:,i,:], x_inv_norms[:,i,:],\\\n",
    "         beta_hat[:, i, :,:] , theta_hat[:, i, :,:, :], beta_error[:,i,:]\\\n",
    "             = runit(Z, X, Y, beta_star, S_hat, sigma_1, sigma_2, lamda, lamda_IV, delta, seed, pulled_indeces, a)"
   ]
  },
  {
   "cell_type": "code",
   "execution_count": 6,
   "metadata": {},
   "outputs": [
    {
     "data": {
      "text/plain": [
       "array([[[0., 0., 0., ..., 0., 0., 0.]],\n",
       "\n",
       "       [[0., 0., 0., ..., 0., 0., 0.]],\n",
       "\n",
       "       [[0., 0., 0., ..., 0., 0., 0.]],\n",
       "\n",
       "       ...,\n",
       "\n",
       "       [[0., 0., 0., ..., 0., 0., 0.]],\n",
       "\n",
       "       [[0., 0., 0., ..., 0., 0., 0.]],\n",
       "\n",
       "       [[0., 0., 0., ..., 0., 0., 0.]]])"
      ]
     },
     "execution_count": 6,
     "metadata": {},
     "output_type": "execute_result"
    }
   ],
   "source": [
    "regrets"
   ]
  },
  {
   "cell_type": "code",
   "execution_count": null,
   "metadata": {},
   "outputs": [],
   "source": []
  }
 ],
 "metadata": {
  "kernelspec": {
   "display_name": ".env",
   "language": "python",
   "name": "python3"
  },
  "language_info": {
   "codemirror_mode": {
    "name": "ipython",
    "version": 3
   },
   "file_extension": ".py",
   "mimetype": "text/x-python",
   "name": "python",
   "nbconvert_exporter": "python",
   "pygments_lexer": "ipython3",
   "version": "3.9.12"
  },
  "orig_nbformat": 4
 },
 "nbformat": 4,
 "nbformat_minor": 2
}
