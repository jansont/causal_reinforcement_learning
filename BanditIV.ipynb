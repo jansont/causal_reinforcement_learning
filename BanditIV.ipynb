{
 "cells": [
  {
   "attachments": {},
   "cell_type": "markdown",
   "metadata": {},
   "source": [
    "## BANDIT IV"
   ]
  },
  {
   "cell_type": "code",
   "execution_count": 2,
   "metadata": {},
   "outputs": [],
   "source": [
    "import numpy as np\n",
    "from scipy.stats import t as t_law\n",
    "import matplotlib.pyplot as plt\n",
    "from tqdm import tqdm\n",
    "\n",
    "colors = ['#377eb8', '#ff7f00', '#4daf4a','#f781bf', '#a65628', '#984ea3','#999999', '#e41a1c', '#dede00']\n",
    "s_colors = ['#377eb8', '#ff7f00', '#4daf4a','#f781bf', '#a65628', '#984ea3','#999999', '#e41a1c', '#dede00']"
   ]
  },
  {
   "cell_type": "code",
   "execution_count": 21,
   "metadata": {},
   "outputs": [],
   "source": [
    "#game parameters\n",
    "n_iter = 50         #number of simulations\n",
    "T = 1000             #time horizon\n",
    "sigma_iv = 0.1         #standard deviation of endogenous noise\n",
    "sigma_y = 0.1\n",
    "rho = 1-2*np.random.binomial(1, 0.2, T) #random noise scaler for Y\n",
    "\n",
    "k = 10      #number of arms\n",
    "d = 5       #dimension of X\n",
    "\n",
    "Gamma_star = np.random.randn(k,d)   # arms x features\n",
    "Beta_star = np.random.randn(d)[...,None]      # features\n",
    "\n",
    "#algorithm parameters\n",
    "gamma_z = 0.1 \n",
    "gamma_x = 0.1\n",
    "G_t = [1 for _ in range(T)]\n",
    "B_t = [1 for _ in range(T)]\n",
    "\n",
    "assert k >= d #assumption\n",
    "\n",
    "#intializing estimated parameter matrics\n",
    "U_0 = np.eye(k)*gamma_z\n",
    "V_0 = np.zeros((k,d))\n",
    "W_0 = np.eye(d)*gamma_x\n",
    "Q_0 = np.zeros((d,1))\n",
    " \n",
    "#confidence sets #fill this out\n",
    "C_1s = np.zeros(T)\n",
    "C_2s = np.zeros(T)\n",
    "\n",
    "\n",
    "    \n"
   ]
  },
  {
   "cell_type": "code",
   "execution_count": 26,
   "metadata": {},
   "outputs": [
    {
     "name": "stderr",
     "output_type": "stream",
     "text": [
      "  0%|          | 0/50 [00:00<?, ?it/s]"
     ]
    },
    {
     "name": "stdout",
     "output_type": "stream",
     "text": [
      "(1000, 6)\n",
      "(5, 1)\n"
     ]
    },
    {
     "name": "stderr",
     "output_type": "stream",
     "text": [
      "\n"
     ]
    },
    {
     "ename": "ValueError",
     "evalue": "could not broadcast input array from shape (5,1) into shape (1,6)",
     "output_type": "error",
     "traceback": [
      "\u001b[0;31m---------------------------------------------------------------------------\u001b[0m",
      "\u001b[0;31mValueError\u001b[0m                                Traceback (most recent call last)",
      "Cell \u001b[0;32mIn[26], line 79\u001b[0m\n\u001b[1;32m     77\u001b[0m X_temp[:X\u001b[39m.\u001b[39mshape[\u001b[39m0\u001b[39m], :X\u001b[39m.\u001b[39mshape[\u001b[39m1\u001b[39m]] \u001b[39m=\u001b[39m X\n\u001b[1;32m     78\u001b[0m \u001b[39mprint\u001b[39m(x\u001b[39m.\u001b[39mshape)\n\u001b[0;32m---> 79\u001b[0m X_temp[\u001b[39m-\u001b[39;49m\u001b[39m1\u001b[39;49m:,] \u001b[39m=\u001b[39m x\n\u001b[1;32m     80\u001b[0m x \u001b[39m=\u001b[39m np\u001b[39m.\u001b[39mconcat\n\u001b[1;32m     82\u001b[0m \u001b[39m# print(play.shape)\u001b[39;00m\n",
      "\u001b[0;31mValueError\u001b[0m: could not broadcast input array from shape (5,1) into shape (1,6)"
     ]
    }
   ],
   "source": [
    "for iteration in tqdm(range(n_iter)):\n",
    "\n",
    "    # Construct X,Y,Z\n",
    "    endo = np.random.randn(T, d)         #endogenous component of X. \n",
    "    eps = sigma_iv* np.random.randn(T, d)   #exogenous component source of X, shape = Time x n_feat\n",
    "    Z = np.random.randn(T,k)                #instrumental variable. K arms. Related to X but exogenous wrt Y\n",
    "\n",
    "    u = endo + eps                                  #subgausssian vector satisfying E[zu']=0\n",
    "    X = (Gamma_star.T @ Z[...,None]).squeeze() + u  # shape T x d  (IV + exogenous component + endogenous component)\n",
    "    \n",
    "    v = sigma_y*np.random.randn(T)  \n",
    "    Y_true = ((Gamma_star @ Beta_star).T @ Z[...,None]).squeeze() + v   #shape: T\n",
    "\n",
    "    #intializing estimated parameter matrics\n",
    "    U_0 = np.eye(k)*gamma_z         # k x k\n",
    "    V_0 = np.zeros((k,d))           # k x d\n",
    "    W_0 = np.eye(d)*gamma_x         # d x d\n",
    "    Q_0 = np.zeros((d,1))           # d x 1\n",
    "    \n",
    "    #confidence sets #fill this out\n",
    "    C_1s = []\n",
    "    C_2s = []\n",
    "\n",
    "    cumulative_regret = 0\n",
    "\n",
    "    for t in range(1,T):\n",
    "        z = Z[t-1][...,None]\n",
    "        x = X[t-1][...,None]\n",
    "        y_true = Y_true[t-1]\n",
    "\n",
    "        U_t = U_0 + z@z.T \n",
    "\n",
    "        V_t = V_0 + z @ x.T                         \n",
    "\n",
    "        Gamma_est = np.linalg.inv(U_t) @ V_t          #shape : d x k\n",
    "\n",
    "        # add to set once so that it isnt empty?\n",
    "        if len(C_1s)==0:\n",
    "            C_1s.append(Gamma_est)\n",
    "        # ||x||_A = sqrt(x'Ax) (index on columns) \n",
    "        gdiff = [(Gamma_star[:,i] - Gamma_est[:,i]) for i in range(Gamma_est.shape[1])]\n",
    "        if all([np.sqrt(g.T @ U_t @ g) <= G_t[t] for g in gdiff]): \n",
    "            C_1s.append(Gamma_est)\n",
    "\n",
    "        X_est = (z.squeeze() @ Gamma_est)[...,None]   #shape : d x 1\n",
    "\n",
    "        W_t = W_0 + X_est @ X_est.T                   #operation is other way in paper but that yield 1x1 (not dxd)\n",
    "\n",
    "        Q_t = Q_0 + X_est*y_true                      #Transpose on X is the other way in the paper : shape (k,1)\n",
    "\n",
    "        Beta_est = np.linalg.inv(W_t) @ Q_t           #shape : k x 1\n",
    "\n",
    "\n",
    "        if len(C_2s)==0:\n",
    "            C_2s.append(Beta_est)\n",
    "        b = (Beta_star - Beta_est)\n",
    "        if np.sqrt(b.T @ W_t @ b) <= B_t[t]:\n",
    "            C_2s.append(Beta_est)\n",
    "\n",
    "\n",
    "        zt = np.argmax(\n",
    "                    [np.max(\n",
    "                        [np.max(\n",
    "                            [((gamma.T @ z).squeeze() @ beta) for beta in C_2s]\n",
    "                        ) for gamma in C_1s]\n",
    "                    ) for z_ in Z]\n",
    "                )\n",
    "        #choose arm\n",
    "\n",
    "        #Confused Here....\n",
    "\n",
    "        X = X.squeeze()\n",
    "        play = x[zt]\n",
    "\n",
    "        X_temp = np.zeros((X.shape[0], X.shape[1]+1))\n",
    "        print(X_temp.shape)\n",
    "        X_temp[:X.shape[0], :X.shape[1]] = X\n",
    "        print(x.shape)\n",
    "        X_temp[-1:,] = x\n",
    "        x = np.concat\n",
    "\n",
    "        # print(play.shape)\n",
    "\n",
    "        \n",
    "        raise\n",
    "\n",
    "        U_0, V_0, W_0, Q_0 = U_t, V_t, W_t, Q_t\n",
    "\n",
    "\n",
    "\n",
    "        # cumulative_regret += y_true - y_pred\n",
    "\n",
    "        # if t%10==0:\n",
    "        #     print(cumulative_regret / t)\n",
    "    \n",
    "\n",
    "\n",
    "    "
   ]
  },
  {
   "cell_type": "code",
   "execution_count": 181,
   "metadata": {},
   "outputs": [
    {
     "data": {
      "text/plain": [
       "True"
      ]
     },
     "execution_count": 181,
     "metadata": {},
     "output_type": "execute_result"
    }
   ],
   "source": [
    "all([1,3,5]) "
   ]
  },
  {
   "attachments": {},
   "cell_type": "markdown",
   "metadata": {},
   "source": [
    "## Scrap"
   ]
  },
  {
   "cell_type": "code",
   "execution_count": 165,
   "metadata": {},
   "outputs": [
    {
     "name": "stderr",
     "output_type": "stream",
     "text": [
      "  0%|          | 0/50 [00:00<?, ?it/s]"
     ]
    },
    {
     "name": "stdout",
     "output_type": "stream",
     "text": [
      "(1,)\n",
      "(1,)\n",
      "(1,)\n",
      "(1,)\n",
      "(1,)\n",
      "(1,)\n",
      "(1,)\n",
      "(1,)\n",
      "(1,)\n",
      "(1,)\n",
      "(1,)\n"
     ]
    },
    {
     "name": "stderr",
     "output_type": "stream",
     "text": [
      "  0%|          | 0/50 [00:02<?, ?it/s]\n"
     ]
    },
    {
     "ename": "KeyboardInterrupt",
     "evalue": "",
     "output_type": "error",
     "traceback": [
      "\u001b[0;31m---------------------------------------------------------------------------\u001b[0m",
      "\u001b[0;31mKeyboardInterrupt\u001b[0m                         Traceback (most recent call last)",
      "Cell \u001b[0;32mIn[165], line 51\u001b[0m\n\u001b[1;32m     45\u001b[0m Beta_est \u001b[39m=\u001b[39m np\u001b[39m.\u001b[39mlinalg\u001b[39m.\u001b[39minv(W_t) \u001b[39m@\u001b[39m Q_t           \u001b[39m#shape : k x k\u001b[39;00m\n\u001b[1;32m     47\u001b[0m C_2s\u001b[39m.\u001b[39mappend(Beta_est)\n\u001b[1;32m     50\u001b[0m zt \u001b[39m=\u001b[39m np\u001b[39m.\u001b[39margmax(\n\u001b[0;32m---> 51\u001b[0m             [np\u001b[39m.\u001b[39mmax(\n\u001b[1;32m     52\u001b[0m                 [np\u001b[39m.\u001b[39mmax(\n\u001b[1;32m     53\u001b[0m                     [((gamma\u001b[39m.\u001b[39mT \u001b[39m@\u001b[39m z)\u001b[39m.\u001b[39msqueeze() \u001b[39m@\u001b[39m beta) \u001b[39mfor\u001b[39;00m beta \u001b[39min\u001b[39;00m C_2s]\n\u001b[1;32m     54\u001b[0m                 ) \u001b[39mfor\u001b[39;00m gamma \u001b[39min\u001b[39;00m C_1s]\n\u001b[1;32m     55\u001b[0m             ) \u001b[39mfor\u001b[39;00m z_ \u001b[39min\u001b[39;00m Z]\n\u001b[1;32m     56\u001b[0m         )\n\u001b[1;32m     57\u001b[0m \u001b[39m#choose arm\u001b[39;00m\n\u001b[1;32m     58\u001b[0m play \u001b[39m=\u001b[39m x[zt]\n",
      "Cell \u001b[0;32mIn[165], line 52\u001b[0m, in \u001b[0;36m<listcomp>\u001b[0;34m(.0)\u001b[0m\n\u001b[1;32m     45\u001b[0m Beta_est \u001b[39m=\u001b[39m np\u001b[39m.\u001b[39mlinalg\u001b[39m.\u001b[39minv(W_t) \u001b[39m@\u001b[39m Q_t           \u001b[39m#shape : k x k\u001b[39;00m\n\u001b[1;32m     47\u001b[0m C_2s\u001b[39m.\u001b[39mappend(Beta_est)\n\u001b[1;32m     50\u001b[0m zt \u001b[39m=\u001b[39m np\u001b[39m.\u001b[39margmax(\n\u001b[1;32m     51\u001b[0m             [np\u001b[39m.\u001b[39mmax(\n\u001b[0;32m---> 52\u001b[0m                 [np\u001b[39m.\u001b[39mmax(\n\u001b[1;32m     53\u001b[0m                     [((gamma\u001b[39m.\u001b[39mT \u001b[39m@\u001b[39m z)\u001b[39m.\u001b[39msqueeze() \u001b[39m@\u001b[39m beta) \u001b[39mfor\u001b[39;00m beta \u001b[39min\u001b[39;00m C_2s]\n\u001b[1;32m     54\u001b[0m                 ) \u001b[39mfor\u001b[39;00m gamma \u001b[39min\u001b[39;00m C_1s]\n\u001b[1;32m     55\u001b[0m             ) \u001b[39mfor\u001b[39;00m z_ \u001b[39min\u001b[39;00m Z]\n\u001b[1;32m     56\u001b[0m         )\n\u001b[1;32m     57\u001b[0m \u001b[39m#choose arm\u001b[39;00m\n\u001b[1;32m     58\u001b[0m play \u001b[39m=\u001b[39m x[zt]\n",
      "Cell \u001b[0;32mIn[165], line 53\u001b[0m, in \u001b[0;36m<listcomp>\u001b[0;34m(.0)\u001b[0m\n\u001b[1;32m     45\u001b[0m Beta_est \u001b[39m=\u001b[39m np\u001b[39m.\u001b[39mlinalg\u001b[39m.\u001b[39minv(W_t) \u001b[39m@\u001b[39m Q_t           \u001b[39m#shape : k x k\u001b[39;00m\n\u001b[1;32m     47\u001b[0m C_2s\u001b[39m.\u001b[39mappend(Beta_est)\n\u001b[1;32m     50\u001b[0m zt \u001b[39m=\u001b[39m np\u001b[39m.\u001b[39margmax(\n\u001b[1;32m     51\u001b[0m             [np\u001b[39m.\u001b[39mmax(\n\u001b[1;32m     52\u001b[0m                 [np\u001b[39m.\u001b[39mmax(\n\u001b[0;32m---> 53\u001b[0m                     [((gamma\u001b[39m.\u001b[39mT \u001b[39m@\u001b[39m z)\u001b[39m.\u001b[39msqueeze() \u001b[39m@\u001b[39m beta) \u001b[39mfor\u001b[39;00m beta \u001b[39min\u001b[39;00m C_2s]\n\u001b[1;32m     54\u001b[0m                 ) \u001b[39mfor\u001b[39;00m gamma \u001b[39min\u001b[39;00m C_1s]\n\u001b[1;32m     55\u001b[0m             ) \u001b[39mfor\u001b[39;00m z_ \u001b[39min\u001b[39;00m Z]\n\u001b[1;32m     56\u001b[0m         )\n\u001b[1;32m     57\u001b[0m \u001b[39m#choose arm\u001b[39;00m\n\u001b[1;32m     58\u001b[0m play \u001b[39m=\u001b[39m x[zt]\n",
      "Cell \u001b[0;32mIn[165], line 53\u001b[0m, in \u001b[0;36m<listcomp>\u001b[0;34m(.0)\u001b[0m\n\u001b[1;32m     45\u001b[0m Beta_est \u001b[39m=\u001b[39m np\u001b[39m.\u001b[39mlinalg\u001b[39m.\u001b[39minv(W_t) \u001b[39m@\u001b[39m Q_t           \u001b[39m#shape : k x k\u001b[39;00m\n\u001b[1;32m     47\u001b[0m C_2s\u001b[39m.\u001b[39mappend(Beta_est)\n\u001b[1;32m     50\u001b[0m zt \u001b[39m=\u001b[39m np\u001b[39m.\u001b[39margmax(\n\u001b[1;32m     51\u001b[0m             [np\u001b[39m.\u001b[39mmax(\n\u001b[1;32m     52\u001b[0m                 [np\u001b[39m.\u001b[39mmax(\n\u001b[0;32m---> 53\u001b[0m                     [((gamma\u001b[39m.\u001b[39;49mT \u001b[39m@\u001b[39;49m z)\u001b[39m.\u001b[39msqueeze() \u001b[39m@\u001b[39m beta) \u001b[39mfor\u001b[39;00m beta \u001b[39min\u001b[39;00m C_2s]\n\u001b[1;32m     54\u001b[0m                 ) \u001b[39mfor\u001b[39;00m gamma \u001b[39min\u001b[39;00m C_1s]\n\u001b[1;32m     55\u001b[0m             ) \u001b[39mfor\u001b[39;00m z_ \u001b[39min\u001b[39;00m Z]\n\u001b[1;32m     56\u001b[0m         )\n\u001b[1;32m     57\u001b[0m \u001b[39m#choose arm\u001b[39;00m\n\u001b[1;32m     58\u001b[0m play \u001b[39m=\u001b[39m x[zt]\n",
      "\u001b[0;31mKeyboardInterrupt\u001b[0m: "
     ]
    }
   ],
   "source": [
    "for iteration in tqdm(range(n_iter)):\n",
    "\n",
    "    # Construct X,Y,Z\n",
    "    endo = np.random.randn(T, d)         #endogenous component of X. \n",
    "    eps = sigma_iv* np.random.randn(T, d)   #exogenous component source of X, shape = Time x n_feat\n",
    "    Z = np.random.randn(T,k)                #instrumental variable. K arms. Related to X but exogenous wrt Y\n",
    "\n",
    "    u = endo + eps                                  #subgausssian vector satisfying E[zu']=0\n",
    "    X = (Gamma_star.T @ Z[...,None]).squeeze() + u  # shape T x d  (IV + exogenous component + endogenous component)\n",
    "    \n",
    "    v = sigma_y*np.random.randn(T)  \n",
    "    Y_true = ((Gamma_star @ Beta_star).T @ Z[...,None]).squeeze() + v   #shape: T\n",
    "\n",
    "    #intializing estimated parameter matrics\n",
    "    U_0 = np.eye(k)*gamma_z         # k x k\n",
    "    V_0 = np.zeros((k,d))           # k x d\n",
    "    W_0 = np.eye(d)*gamma_x         # d x d\n",
    "    Q_0 = np.zeros((d,1))           # d x 1\n",
    "    \n",
    "    #confidence sets #fill this out\n",
    "    C_1s = []\n",
    "    C_2s = []\n",
    "\n",
    "    cumulative_regret = 0\n",
    "\n",
    "    z = Z[0][...,None]\n",
    "    x = X[0][...,None]\n",
    "    y_true = Y_true[0]\n",
    "    for t in range(1,T):\n",
    "\n",
    "        U_t = U_0 + z@z.T \n",
    "\n",
    "        V_t = V_0 + z @ x.T                         \n",
    "\n",
    "        Gamma_est = np.linalg.inv(U_t) @ V_t          #shape : d x k\n",
    "        C_1s.append(Gamma_est)\n",
    "\n",
    "        X_est = (z.squeeze() @ Gamma_est)[...,None]   #shape : d x 1\n",
    "\n",
    "        W_t = W_0 + X_est @ X_est.T                   #operation is other way in paper but that yield 1x1 (not dxd)\n",
    "\n",
    "        Q_t = Q_0 + X_est.T*y_true                    \n",
    "        Beta_est = np.linalg.inv(W_t) @ Q_t           #shape : k x k\n",
    "\n",
    "        C_2s.append(Beta_est)\n",
    "\n",
    "        zt = np.argmax(\n",
    "                    [np.max(\n",
    "                        [np.max(\n",
    "                            [((gamma.T @ z).squeeze() @ beta) for beta in C_2s]\n",
    "                        ) for gamma in C_1s]\n",
    "                    ) for z_ in Z]\n",
    "                )\n",
    "        #choose arm\n",
    "        play = x[zt]\n",
    "        x = \n",
    "\n",
    "        print(play.shape)\n",
    "\n",
    "\n",
    "\n",
    "\n",
    "\n",
    "        \n",
    "\n",
    "        \n",
    "    \n",
    "\n",
    "        U_0, V_0, W_0, Q_0 = U_t, V_t, W_t, Q_t\n",
    "\n",
    "\n",
    "\n",
    "        # cumulative_regret += y_true - y_pred\n",
    "\n",
    "        # if t%10==0:\n",
    "        #     print(cumulative_regret / t)\n",
    "    \n",
    "\n",
    "\n",
    "    "
   ]
  },
  {
   "cell_type": "code",
   "execution_count": 111,
   "metadata": {},
   "outputs": [
    {
     "data": {
      "text/plain": [
       "(1000, 5, 1)"
      ]
     },
     "execution_count": 111,
     "metadata": {},
     "output_type": "execute_result"
    }
   ],
   "source": [
    "        az = []\n",
    "        for z_ in Z: \n",
    "            z_ = Z\n",
    "            ag = []\n",
    "            for gamma in C_1s:\n",
    "                ab = []\n",
    "                for beta in C_2s:\n",
    "                    ab.append((gamma.T @ z).squeeze() @ beta)\n",
    "                m = np.max(ab)\n",
    "                ag.append(m)\n",
    "            m = np.max(ag)\n",
    "            az.append(m)\n",
    "        z = np.argmax(az)\n",
    "\n",
    "        print(z)\n"
   ]
  },
  {
   "cell_type": "code",
   "execution_count": 96,
   "metadata": {},
   "outputs": [
    {
     "name": "stderr",
     "output_type": "stream",
     "text": [
      "  0%|          | 0/50 [00:00<?, ?it/s]"
     ]
    },
    {
     "name": "stdout",
     "output_type": "stream",
     "text": [
      "(5, 10)\n",
      "(1000, 10)\n",
      "(1000, 5)\n"
     ]
    },
    {
     "name": "stderr",
     "output_type": "stream",
     "text": [
      "\n"
     ]
    },
    {
     "ename": "ValueError",
     "evalue": "matmul: Input operand 1 has a mismatch in its core dimension 0, with gufunc signature (n?,k),(k,m?)->(n?,m?) (size 1000 is different from 10)",
     "output_type": "error",
     "traceback": [
      "\u001b[0;31m---------------------------------------------------------------------------\u001b[0m",
      "\u001b[0;31mValueError\u001b[0m                                Traceback (most recent call last)",
      "Cell \u001b[0;32mIn[96], line 13\u001b[0m\n\u001b[1;32m     11\u001b[0m \u001b[39mprint\u001b[39m(Z\u001b[39m.\u001b[39mshape)\n\u001b[1;32m     12\u001b[0m \u001b[39mprint\u001b[39m(u\u001b[39m.\u001b[39mshape)\n\u001b[0;32m---> 13\u001b[0m X \u001b[39m=\u001b[39m Gamma_star\u001b[39m.\u001b[39;49mT \u001b[39m@\u001b[39;49m Z \u001b[39m+\u001b[39m u    \u001b[39m#instrumental variable + exogenous component + exogenous component\u001b[39;00m\n\u001b[1;32m     15\u001b[0m \u001b[39mprint\u001b[39m(X\u001b[39m.\u001b[39mshape)\n\u001b[1;32m     18\u001b[0m eta \u001b[39m=\u001b[39m sigma_y\u001b[39m*\u001b[39mnp\u001b[39m.\u001b[39mrandom\u001b[39m.\u001b[39mrandn(T)                \u001b[39m#distribution of y\u001b[39;00m\n",
      "\u001b[0;31mValueError\u001b[0m: matmul: Input operand 1 has a mismatch in its core dimension 0, with gufunc signature (n?,k),(k,m?)->(n?,m?) (size 1000 is different from 10)"
     ]
    }
   ],
   "source": [
    "\n",
    "\n",
    "    for t in range(1,T):\n",
    "        z = Z[t-1][...,None]\n",
    "        x = X[t-1][...,None]\n",
    "        y_true = Y_true[t-1]\n",
    "        #problem here for k ≠ d (dim(U)=(k,k), dim(z_t @ z_t.T)=(d,d)\n",
    "        #solution pad z with zeros\n",
    "        z = pad_vector(z, k)\n",
    "        U_t = U_0 + z@z.T \n",
    "\n",
    "        V_t = V_0 + z @ x.T                         \n",
    "\n",
    "        Gamma_est = np.linalg.inv(U_t) @ V_t          #shape : d x k\n",
    "\n",
    "        X_est = (z.squeeze() @ Gamma_est)[...,None]   #shape : d x 1\n",
    "\n",
    "        W_t = W_0 + X_est @ X_est.T                   #operation is other way in paper but that yield 1x1 (not dxd)\n",
    "\n",
    "        Q_t = Q_0 + X_est.T*y_true                    \n",
    "        Beta_est = np.linalg.inv(W_t) @ Q_t           #shape : k x k\n",
    "        U_0, V_0, W_0, Q_0 = U_t, V_t, W_t, Q_t\n",
    "\n",
    "        y_pred = np.dot(Gamma_est, Beta_est)\n",
    "\n",
    "        cumulative_regret = y_true - y_pred\n",
    "\n",
    "    \n",
    "    raise\n",
    "    cumulative_regret /= T\n",
    "\n",
    "\n",
    "    "
   ]
  },
  {
   "cell_type": "code",
   "execution_count": null,
   "metadata": {},
   "outputs": [],
   "source": []
  },
  {
   "cell_type": "code",
   "execution_count": 5,
   "metadata": {},
   "outputs": [
    {
     "data": {
      "text/plain": [
       "array([[1., 1., 1.],\n",
       "       [1., 1., 1.],\n",
       "       [1., 1., 1.]])"
      ]
     },
     "execution_count": 5,
     "metadata": {},
     "output_type": "execute_result"
    }
   ],
   "source": [
    "a = np.ones((3,1))\n",
    "b = np.ones((3,1))\n",
    "\n",
    "np.dot(a,b.T)"
   ]
  },
  {
   "cell_type": "code",
   "execution_count": 16,
   "metadata": {},
   "outputs": [
    {
     "data": {
      "text/plain": [
       "3.0"
      ]
     },
     "execution_count": 16,
     "metadata": {},
     "output_type": "execute_result"
    }
   ],
   "source": [
    "X = np.ones((3,3))\n",
    "X[1].uns.T @ X[2]"
   ]
  },
  {
   "cell_type": "code",
   "execution_count": 20,
   "metadata": {},
   "outputs": [
    {
     "data": {
      "text/plain": [
       "array([1., 1., 1.])"
      ]
     },
     "execution_count": 20,
     "metadata": {},
     "output_type": "execute_result"
    }
   ],
   "source": [
    "X[1].transpose()"
   ]
  },
  {
   "cell_type": "code",
   "execution_count": null,
   "metadata": {},
   "outputs": [],
   "source": [
    "store_betas = np.zeros((len(methods), n_iters, d, T))\n",
    "\n",
    "# Run\n",
    "for it in tqdm(range(n_iters)):  # iterations to average the effect of noise\n",
    "    \n",
    "    # INITIALIZE\n",
    "    thetas = np.zeros((len(methods),d,d))"
   ]
  },
  {
   "cell_type": "code",
   "execution_count": null,
   "metadata": {},
   "outputs": [],
   "source": []
  }
 ],
 "metadata": {
  "kernelspec": {
   "display_name": ".env",
   "language": "python",
   "name": "python3"
  },
  "language_info": {
   "codemirror_mode": {
    "name": "ipython",
    "version": 3
   },
   "file_extension": ".py",
   "mimetype": "text/x-python",
   "name": "python",
   "nbconvert_exporter": "python",
   "pygments_lexer": "ipython3",
   "version": "3.9.12"
  },
  "orig_nbformat": 4,
  "vscode": {
   "interpreter": {
    "hash": "4707ea576627d731f0b3fd07d9029a837585f8521a5d4e2edf9dd4c3dd3f64ab"
   }
  }
 },
 "nbformat": 4,
 "nbformat_minor": 2
}
